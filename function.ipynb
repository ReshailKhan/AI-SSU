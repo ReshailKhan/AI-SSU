{
 "cells": [
  {
   "cell_type": "markdown",
   "metadata": {},
   "source": [
    "# 48 : Using functions as variables (which is what they really are)"
   ]
  },
  {
   "cell_type": "code",
   "execution_count": 1,
   "metadata": {},
   "outputs": [
    {
     "name": "stdout",
     "output_type": "stream",
     "text": [
      "5.0685\n"
     ]
    }
   ],
   "source": [
    "def calc_tax(sales_total, tax_rate):\n",
    "    tax = sales_total * tax_rate\n",
    "    return tax\n",
    "sales_tax = calc_tax(sales_total=101.37,tax_rate=.05)\n",
    "print(sales_tax)"
   ]
  },
  {
   "cell_type": "code",
   "execution_count": 6,
   "metadata": {},
   "outputs": [
    {
     "data": {
      "text/plain": [
       "4"
      ]
     },
     "execution_count": 6,
     "metadata": {},
     "output_type": "execute_result"
    }
   ],
   "source": [
    "def add_numbers(first_number, second_number):\n",
    "    return first_number + second_number\n",
    "def subtract_numbers(first_number, second_number):\n",
    "    return first_number - second_number\n",
    "result_of_adding = add_numbers(1, 2)\n",
    "result_of_subtracting = subtract_numbers(3, 2)\n",
    "sum_of_results = result_of_adding +result_of_subtracting\n",
    "sum_of_results"
   ]
  },
  {
   "cell_type": "markdown",
   "metadata": {},
   "source": [
    "# 49 :- Functions: Local vs. global variables"
   ]
  },
  {
   "cell_type": "code",
   "execution_count": 8,
   "metadata": {
    "collapsed": true
   },
   "outputs": [
    {
     "name": "stdout",
     "output_type": "stream",
     "text": [
      "HHi\n"
     ]
    },
    {
     "data": {
      "text/plain": [
       "'Hi'"
      ]
     },
     "execution_count": 8,
     "metadata": {},
     "output_type": "execute_result"
    }
   ],
   "source": [
    "what_to_say = \"Hi\"\n",
    "def say_something():\n",
    "    what_to_say = \"HHi\"\n",
    "    print(what_to_say)\n",
    "say_something()\n",
    "what_to_say"
   ]
  },
  {
   "cell_type": "code",
   "execution_count": 15,
   "metadata": {},
   "outputs": [
    {
     "name": "stdout",
     "output_type": "stream",
     "text": [
      "WallClockTime is : 12 pm\n",
      "wristwatchTime is : 2:30\n",
      "WallClockTime is : 1pm\n",
      "wristwatchTime is : 3:30\n",
      "5:00\n"
     ]
    }
   ],
   "source": [
    "wallclock=\"1:30\"\n",
    "def setWristWatch(newTime):\n",
    "    wallclock=\"12 pm\"\n",
    "    wristWatchTime=newTime\n",
    "    print(\"WallClockTime is : \"+wallclock)\n",
    "    print(\"wristwatchTime is : \"+ wristWatchTime)\n",
    "def setMyWristWatch(newTime):\n",
    "    wristWatchTime=newTime\n",
    "    print(\"WallClockTime is : \"+wallclock)\n",
    "    print(\"wristwatchTime is : \"+ wristWatchTime)\n",
    "wallclock=\"1pm\"\n",
    "setWristWatch(\"2:30\")\n",
    "setMyWristWatch(\"3:30\")\n",
    "wallclock=\"5:00\"\n",
    "print(wallclock)\n"
   ]
  },
  {
   "cell_type": "code",
   "execution_count": 16,
   "metadata": {},
   "outputs": [
    {
     "name": "stdout",
     "output_type": "stream",
     "text": [
      "varible outside arrr\n"
     ]
    }
   ],
   "source": [
    "def a(b):\n",
    "    a=b\n",
    "    return a\n",
    "print(\"varible outside \"+a(\"arrr\"))"
   ]
  },
  {
   "cell_type": "markdown",
   "metadata": {},
   "source": [
    "# 50 :Functions within functions"
   ]
  },
  {
   "cell_type": "code",
   "execution_count": 19,
   "metadata": {},
   "outputs": [
    {
     "name": "stdout",
     "output_type": "stream",
     "text": [
      "Hi\n",
      "Hi\n"
     ]
    }
   ],
   "source": [
    "def say_something():\n",
    "    what_to_say = \"Hello\"\n",
    "    now_say_it()\n",
    "def now_say_it():\n",
    "    print(what_to_say)\n",
    "now_say_it()\n",
    "say_something()"
   ]
  },
  {
   "cell_type": "markdown",
   "metadata": {},
   "source": [
    "# 51 : While loops"
   ]
  },
  {
   "cell_type": "code",
   "execution_count": 20,
   "metadata": {},
   "outputs": [
    {
     "name": "stdout",
     "output_type": "stream",
     "text": [
      "1\n",
      "2\n",
      "3\n",
      "4\n",
      "5\n"
     ]
    }
   ],
   "source": [
    "current_value=1\n",
    "while current_value<=5:\n",
    "    print(current_value)\n",
    "    current_value+=1"
   ]
  },
  {
   "cell_type": "code",
   "execution_count": null,
   "metadata": {},
   "outputs": [],
   "source": [
    "prompt=\"tell me something i will repeat\"\n",
    "prompt+=\"\\n Enter somting or enter quit to end\"\n"
   ]
  },
  {
   "cell_type": "code",
   "execution_count": 3,
   "metadata": {},
   "outputs": [
    {
     "name": "stdout",
     "output_type": "stream",
     "text": [
      "Enter a city, or q to quit:q\n",
      "Prgram terminated\n"
     ]
    }
   ],
   "source": [
    "cleanest_cities = [\"Karachi\",\"Islamabad\",\"lahore\"]\n",
    "user_input = \"\"\n",
    "while user_input != \"q\":\n",
    "    user_input = input(\"Enter a city, or q to quit:\")\n",
    "    if user_input != \"q\":\n",
    "        for a_clean_city in cleanest_cities:\n",
    "            if user_input == a_clean_city:\n",
    "                print(\"It's one of the cleanest cities\")\n",
    "                break\n",
    "        else:\n",
    "             print(\"It's not a cleanest cities\")\n",
    "    else:\n",
    "        print(\"Prgram terminated\")"
   ]
  },
  {
   "cell_type": "code",
   "execution_count": 15,
   "metadata": {},
   "outputs": [
    {
     "name": "stdout",
     "output_type": "stream",
     "text": [
      "Enter you age : 3\n",
      "Your ticket is of  15 $\n",
      "If you want to repaet press y or q for quit : y\n",
      "Enter you age : 6\n",
      "Your ticket is of  15 $\n",
      "If you want to repaet press y or q for quit : q\n",
      "program terminated\n"
     ]
    }
   ],
   "source": [
    "quit=\"\"\n",
    "while quit!=\"q\":\n",
    "    age=int(input(\"Enter you age : \"))\n",
    "    if age<3:\n",
    "        ticket=\"free\"\n",
    "        print(\"your ticket is \",ticket)\n",
    "    elif age>=3 and age<=12:\n",
    "        tickett=15\n",
    "        print(\"Your ticket is of \",tickett,\"$\")\n",
    "    else:\n",
    "        tickett=20\n",
    "        print(\"Your ticket is of \",tickett,\"$\")\n",
    "    quit=input(\"If you want to repaet press y or q for quit : \")\n",
    "    if quit==\"q\":\n",
    "        print(\"program terminated\")"
   ]
  },
  {
   "cell_type": "code",
   "execution_count": 12,
   "metadata": {},
   "outputs": [
    {
     "name": "stdout",
     "output_type": "stream",
     "text": [
      "true\n",
      "true\n",
      "false\n"
     ]
    }
   ],
   "source": [
    "listed=[\"true\",\"true\",\"false\",\"true\"]\n",
    "for lis in listed:\n",
    "    print(lis)\n",
    "    if lis==\"false\":\n",
    "        break"
   ]
  },
  {
   "cell_type": "code",
   "execution_count": 2,
   "metadata": {},
   "outputs": [
    {
     "name": "stdout",
     "output_type": "stream",
     "text": [
      "2 2 2 true\n"
     ]
    }
   ],
   "source": [
    "a=1\n",
    "b=2\n",
    "c=2\n",
    "d=\"true\"\n",
    "if a+b==c:\n",
    "    d=\"false\"\n",
    "    print(a,b,c,d)\n",
    "else:\n",
    "    a=a+a\n",
    "    d=\"true\"\n",
    "    print(a,b,c,d)"
   ]
  },
  {
   "cell_type": "code",
   "execution_count": null,
   "metadata": {},
   "outputs": [],
   "source": []
  }
 ],
 "metadata": {
  "kernelspec": {
   "display_name": "Python 3",
   "language": "python",
   "name": "python3"
  },
  "language_info": {
   "codemirror_mode": {
    "name": "ipython",
    "version": 3
   },
   "file_extension": ".py",
   "mimetype": "text/x-python",
   "name": "python",
   "nbconvert_exporter": "python",
   "pygments_lexer": "ipython3",
   "version": "3.6.6"
  }
 },
 "nbformat": 4,
 "nbformat_minor": 2
}
