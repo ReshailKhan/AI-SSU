{
 "cells": [
  {
   "cell_type": "code",
   "execution_count": 3,
   "metadata": {},
   "outputs": [
    {
     "name": "stdout",
     "output_type": "stream",
     "text": [
      "Enter type of car : suv\n",
      "Enter no of day : 44\n",
      "cost =  4400\n"
     ]
    }
   ],
   "source": [
    "class car:\n",
    "    cost=0\n",
    "    def __init__(self,carType,noOfDays):\n",
    "        self.carType=carType\n",
    "        self.noOfDays=noOfDays\n",
    "        \n",
    "    def payment(self,carType,noOfDays):\n",
    "        if carType==\"hechback\":\n",
    "            cost=30\n",
    "            print(\"cost = \", cost*noOfDays)\n",
    "        elif carType==\"sidan\":\n",
    "            cost=50\n",
    "            print(\"cost = \", cost*noOfDays)\n",
    "        elif carType==\"suv\":\n",
    "            cost=100\n",
    "            print(\"cost = \", cost*noOfDays)\n",
    "        else:\n",
    "            print(\"data no present\")\n",
    "cars=input(\"Enter type of car : \")\n",
    "day=int(input(\"Enter no of day : \"))\n",
    "a=car(cars,day)\n",
    "a.payment(cars,day)\n",
    "\n",
    "        \n",
    "    "
   ]
  },
  {
   "cell_type": "code",
   "execution_count": 8,
   "metadata": {},
   "outputs": [
    {
     "name": "stdout",
     "output_type": "stream",
     "text": [
      "None\n"
     ]
    }
   ],
   "source": [
    "x=[1,2,3,4]\n",
    "x.insert(0,'100')\n",
    "x\n",
    "cars = ['bmw', 'audi', 'toyota', 'subaru'] \n",
    "print(cars.sort(reverse=True))"
   ]
  },
  {
   "cell_type": "code",
   "execution_count": 1,
   "metadata": {},
   "outputs": [
    {
     "name": "stdout",
     "output_type": "stream",
     "text": [
      "[0, 1, 2, 3, 4, 5]\n",
      "4\n",
      "['h', 'e', 'l', 'l', 'o']\n",
      "1\n",
      "2\n"
     ]
    }
   ],
   "source": [
    "def foo(x=[]):\n",
    "    x.append(1)\n",
    "    return x\n",
    "foo()\n",
    "foo()\n",
    "foo()\n",
    "foo()\n",
    "x = [i**+1 for i in range(6)];\n",
    "print(x);\n",
    "a=4\n",
    "print(a**+1)\n",
    "print([i.lower() for i in \"HELLO\"])\n",
    "def foo():\n",
    "    try:\n",
    "        print(1)\n",
    "    finally:\n",
    "        print(2)\n",
    "foo()\n",
    "\n",
    "#print([if(i%2==0): i; else: i+1; for i in range(4)])"
   ]
  },
  {
   "cell_type": "code",
   "execution_count": 40,
   "metadata": {},
   "outputs": [
    {
     "name": "stdout",
     "output_type": "stream",
     "text": [
      "3\n",
      "1\n"
     ]
    }
   ],
   "source": [
    "def foo(fname, val):\n",
    "    print(fname(val))\n",
    "foo(max, [1, 2, 3])\n",
    "foo(min, [1, 2, 3])\n"
   ]
  },
  {
   "cell_type": "code",
   "execution_count": 43,
   "metadata": {},
   "outputs": [
    {
     "name": "stdout",
     "output_type": "stream",
     "text": [
      "1\n"
     ]
    },
    {
     "ename": "UnboundLocalError",
     "evalue": "local variable 'total' referenced before assignment",
     "output_type": "error",
     "traceback": [
      "\u001b[1;31m---------------------------------------------------------------------------\u001b[0m",
      "\u001b[1;31mUnboundLocalError\u001b[0m                         Traceback (most recent call last)",
      "\u001b[1;32m<ipython-input-43-19380f050703>\u001b[0m in \u001b[0;36m<module>\u001b[1;34m()\u001b[0m\n\u001b[0;32m      7\u001b[0m     \u001b[1;32mreturn\u001b[0m \u001b[0mtotal\u001b[0m\u001b[1;33m\u001b[0m\u001b[0m\n\u001b[0;32m      8\u001b[0m \u001b[0mtotal\u001b[0m \u001b[1;33m=\u001b[0m \u001b[1;36m0\u001b[0m\u001b[1;33m\u001b[0m\u001b[0m\n\u001b[1;32m----> 9\u001b[1;33m \u001b[0mprint\u001b[0m\u001b[1;33m(\u001b[0m\u001b[0mfo\u001b[0m\u001b[1;33m(\u001b[0m\u001b[1;33m)\u001b[0m\u001b[1;33m)\u001b[0m\u001b[1;33m\u001b[0m\u001b[0m\n\u001b[0m",
      "\u001b[1;32m<ipython-input-43-19380f050703>\u001b[0m in \u001b[0;36mfo\u001b[1;34m()\u001b[0m\n\u001b[0;32m      4\u001b[0m \u001b[0mprint\u001b[0m\u001b[1;33m(\u001b[0m\u001b[0mfoo\u001b[0m\u001b[1;33m(\u001b[0m\u001b[1;33m)\u001b[0m\u001b[1;33m)\u001b[0m\u001b[1;33m\u001b[0m\u001b[0m\n\u001b[0;32m      5\u001b[0m \u001b[1;32mdef\u001b[0m \u001b[0mfo\u001b[0m\u001b[1;33m(\u001b[0m\u001b[1;33m)\u001b[0m\u001b[1;33m:\u001b[0m\u001b[1;33m\u001b[0m\u001b[0m\n\u001b[1;32m----> 6\u001b[1;33m     \u001b[0mtotal\u001b[0m \u001b[1;33m+=\u001b[0m \u001b[1;36m1\u001b[0m\u001b[1;33m\u001b[0m\u001b[0m\n\u001b[0m\u001b[0;32m      7\u001b[0m     \u001b[1;32mreturn\u001b[0m \u001b[0mtotal\u001b[0m\u001b[1;33m\u001b[0m\u001b[0m\n\u001b[0;32m      8\u001b[0m \u001b[0mtotal\u001b[0m \u001b[1;33m=\u001b[0m \u001b[1;36m0\u001b[0m\u001b[1;33m\u001b[0m\u001b[0m\n",
      "\u001b[1;31mUnboundLocalError\u001b[0m: local variable 'total' referenced before assignment"
     ]
    }
   ],
   "source": [
    "def foo():\n",
    "    return total + 1\n",
    "total = 0\n",
    "print(foo())\n"
   ]
  },
  {
   "cell_type": "code",
   "execution_count": 46,
   "metadata": {},
   "outputs": [
    {
     "name": "stdout",
     "output_type": "stream",
     "text": [
      "[0]\n",
      "[0, 1]\n",
      "[0, 1, 2]\n"
     ]
    }
   ],
   "source": [
    "def foo(i, x=[]):\n",
    "    x.append(i)\n",
    "    return x\n",
    "for i in range(3):\n",
    "    print(foo(i))"
   ]
  },
  {
   "cell_type": "code",
   "execution_count": 1,
   "metadata": {},
   "outputs": [
    {
     "name": "stdout",
     "output_type": "stream",
     "text": [
      "[0, None, 1, None, 2, None]\n"
     ]
    }
   ],
   "source": [
    "def foo(i, x=[]):\n",
    "    x.append(x.append(i))\n",
    "    return x\n",
    "for i in range(3):\n",
    "    y = foo(i)\n",
    "print(y)"
   ]
  },
  {
   "cell_type": "code",
   "execution_count": 50,
   "metadata": {},
   "outputs": [
    {
     "name": "stdout",
     "output_type": "stream",
     "text": [
      "['AB', 'CD']\n"
     ]
    }
   ],
   "source": [
    "def to_upper(k):\n",
    "    return k.upper()\n",
    "x = ['ab', 'cd']\n",
    "print(list(map(to_upper, x)))"
   ]
  },
  {
   "cell_type": "code",
   "execution_count": 51,
   "metadata": {},
   "outputs": [
    {
     "name": "stdout",
     "output_type": "stream",
     "text": [
      "125\n"
     ]
    }
   ],
   "source": [
    "lamb = lambda x: x ** 3\n",
    "print(lamb(5))"
   ]
  },
  {
   "cell_type": "code",
   "execution_count": 2,
   "metadata": {},
   "outputs": [
    {
     "data": {
      "text/plain": [
       "'Sir Arthur'"
      ]
     },
     "execution_count": 2,
     "metadata": {},
     "output_type": "execute_result"
    }
   ],
   "source": [
    "def writer():\n",
    "    title = 'Sir'\n",
    "    name = (lambda x:title + ' ' + x)\n",
    "    return name \n",
    "who = writer()\n",
    "who('Arthur')"
   ]
  },
  {
   "cell_type": "code",
   "execution_count": 20,
   "metadata": {},
   "outputs": [
    {
     "name": "stdout",
     "output_type": "stream",
     "text": [
      "reshail\n",
      "21\n"
     ]
    }
   ],
   "source": [
    "class x():\n",
    "    def __init__(self, name, age):\n",
    "        self.name=name\n",
    "        self.age=age\n",
    "    def des(self):\n",
    "        print(self.name)\n",
    "        print(self.age)\n",
    "a=x(\"reshail\",21)\n",
    "a.des()"
   ]
  },
  {
   "cell_type": "code",
   "execution_count": 19,
   "metadata": {},
   "outputs": [
    {
     "name": "stdout",
     "output_type": "stream",
     "text": [
      "4\n",
      "4\n",
      "4\n",
      "Ford\n",
      "VRooooommmm!\n"
     ]
    }
   ],
   "source": [
    "class Car(object):\n",
    "\n",
    "    wheels = 4\n",
    "\n",
    "    def __init__(self, make, model):\n",
    "        self.make = make\n",
    "        self.model = model\n",
    "\n",
    "    def make_car_sound(self):\n",
    "        print (self.make)\n",
    "        print ('VRooooommmm!')\n",
    "\n",
    "mustang = Car('Ford', 'Mustang')\n",
    "print (mustang.wheels)\n",
    "# 4\n",
    "print (Car.wheels)\n",
    "print(mustang.wheels)\n",
    "mustang.make_car_sound()"
   ]
  },
  {
   "cell_type": "code",
   "execution_count": null,
   "metadata": {},
   "outputs": [],
   "source": []
  }
 ],
 "metadata": {
  "kernelspec": {
   "display_name": "Python 3",
   "language": "python",
   "name": "python3"
  },
  "language_info": {
   "codemirror_mode": {
    "name": "ipython",
    "version": 3
   },
   "file_extension": ".py",
   "mimetype": "text/x-python",
   "name": "python",
   "nbconvert_exporter": "python",
   "pygments_lexer": "ipython3",
   "version": "3.6.6"
  }
 },
 "nbformat": 4,
 "nbformat_minor": 2
}
